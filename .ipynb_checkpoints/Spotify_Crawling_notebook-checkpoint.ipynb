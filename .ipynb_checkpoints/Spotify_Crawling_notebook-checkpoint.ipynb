{
 "cells": [
  {
   "cell_type": "code",
   "execution_count": 1,
   "id": "654d38cb",
   "metadata": {},
   "outputs": [],
   "source": [
    "#!pip install bs4\n",
    "#!pip install selenium\n",
    "#!pip install webdriver-manager"
   ]
  },
  {
   "cell_type": "code",
   "execution_count": 2,
   "id": "12897b77",
   "metadata": {},
   "outputs": [],
   "source": [
    "from selenium import webdriver\n",
    "from selenium.webdriver.edge.service import Service as EdgeService\n",
    "from webdriver_manager.microsoft import EdgeChromiumDriverManager\n",
    "\n",
    "'''\n",
    "options = webdriver.ChromeOptions()\n",
    "options.add_argument('--no-sandbox')\n",
    "#options.add_argument('--headless')  #ẩn cửa sổ chrome\n",
    "options.add_argument(\"--window-size=1920,1080\")\n",
    "'''\n",
    "\n",
    "from selenium.webdriver.common.keys import Keys\n",
    "from selenium.webdriver.common.by import By\n",
    "import time"
   ]
  },
  {
   "cell_type": "code",
   "execution_count": 3,
   "id": "a8b8aad6",
   "metadata": {},
   "outputs": [
    {
     "name": "stderr",
     "output_type": "stream",
     "text": [
      "[WDM] - Downloading:  12%|█▏        | 960k/7.86M [00:00<00:06, 1.12MB/s]"
     ]
    },
    {
     "ename": "KeyboardInterrupt",
     "evalue": "",
     "output_type": "error",
     "traceback": [
      "\u001b[1;31m---------------------------------------------------------------------------\u001b[0m",
      "\u001b[1;31mKeyboardInterrupt\u001b[0m                         Traceback (most recent call last)",
      "\u001b[1;32m~\\AppData\\Local\\Temp\\ipykernel_5548\\3153364879.py\u001b[0m in \u001b[0;36m<module>\u001b[1;34m\u001b[0m\n\u001b[1;32m----> 1\u001b[1;33m \u001b[0mservice\u001b[0m\u001b[1;33m=\u001b[0m\u001b[0mEdgeService\u001b[0m\u001b[1;33m(\u001b[0m\u001b[0mEdgeChromiumDriverManager\u001b[0m\u001b[1;33m(\u001b[0m\u001b[1;33m)\u001b[0m\u001b[1;33m.\u001b[0m\u001b[0minstall\u001b[0m\u001b[1;33m(\u001b[0m\u001b[1;33m)\u001b[0m\u001b[1;33m)\u001b[0m\u001b[1;33m\u001b[0m\u001b[1;33m\u001b[0m\u001b[0m\n\u001b[0m",
      "\u001b[1;32m~\\anaconda3\\lib\\site-packages\\webdriver_manager\\microsoft.py\u001b[0m in \u001b[0;36minstall\u001b[1;34m(self)\u001b[0m\n\u001b[0;32m     60\u001b[0m \u001b[1;33m\u001b[0m\u001b[0m\n\u001b[0;32m     61\u001b[0m     \u001b[1;32mdef\u001b[0m \u001b[0minstall\u001b[0m\u001b[1;33m(\u001b[0m\u001b[0mself\u001b[0m\u001b[1;33m)\u001b[0m \u001b[1;33m->\u001b[0m \u001b[0mstr\u001b[0m\u001b[1;33m:\u001b[0m\u001b[1;33m\u001b[0m\u001b[1;33m\u001b[0m\u001b[0m\n\u001b[1;32m---> 62\u001b[1;33m         \u001b[0mdriver_path\u001b[0m \u001b[1;33m=\u001b[0m \u001b[0mself\u001b[0m\u001b[1;33m.\u001b[0m\u001b[0m_get_driver_path\u001b[0m\u001b[1;33m(\u001b[0m\u001b[0mself\u001b[0m\u001b[1;33m.\u001b[0m\u001b[0mdriver\u001b[0m\u001b[1;33m)\u001b[0m\u001b[1;33m\u001b[0m\u001b[1;33m\u001b[0m\u001b[0m\n\u001b[0m\u001b[0;32m     63\u001b[0m         \u001b[0mos\u001b[0m\u001b[1;33m.\u001b[0m\u001b[0mchmod\u001b[0m\u001b[1;33m(\u001b[0m\u001b[0mdriver_path\u001b[0m\u001b[1;33m,\u001b[0m \u001b[1;36m0o755\u001b[0m\u001b[1;33m)\u001b[0m\u001b[1;33m\u001b[0m\u001b[1;33m\u001b[0m\u001b[0m\n\u001b[0;32m     64\u001b[0m         \u001b[1;32mreturn\u001b[0m \u001b[0mdriver_path\u001b[0m\u001b[1;33m\u001b[0m\u001b[1;33m\u001b[0m\u001b[0m\n",
      "\u001b[1;32m~\\anaconda3\\lib\\site-packages\\webdriver_manager\\core\\manager.py\u001b[0m in \u001b[0;36m_get_driver_path\u001b[1;34m(self, driver)\u001b[0m\n\u001b[0;32m     28\u001b[0m             \u001b[1;32mreturn\u001b[0m \u001b[0mbinary_path\u001b[0m\u001b[1;33m\u001b[0m\u001b[1;33m\u001b[0m\u001b[0m\n\u001b[0;32m     29\u001b[0m \u001b[1;33m\u001b[0m\u001b[0m\n\u001b[1;32m---> 30\u001b[1;33m         \u001b[0mfile\u001b[0m \u001b[1;33m=\u001b[0m \u001b[0mself\u001b[0m\u001b[1;33m.\u001b[0m\u001b[0m_download_manager\u001b[0m\u001b[1;33m.\u001b[0m\u001b[0mdownload_file\u001b[0m\u001b[1;33m(\u001b[0m\u001b[0mdriver\u001b[0m\u001b[1;33m.\u001b[0m\u001b[0mget_driver_download_url\u001b[0m\u001b[1;33m(\u001b[0m\u001b[1;33m)\u001b[0m\u001b[1;33m)\u001b[0m\u001b[1;33m\u001b[0m\u001b[1;33m\u001b[0m\u001b[0m\n\u001b[0m\u001b[0;32m     31\u001b[0m         \u001b[0mbinary_path\u001b[0m \u001b[1;33m=\u001b[0m \u001b[0mself\u001b[0m\u001b[1;33m.\u001b[0m\u001b[0mdriver_cache\u001b[0m\u001b[1;33m.\u001b[0m\u001b[0msave_file_to_cache\u001b[0m\u001b[1;33m(\u001b[0m\u001b[0mdriver\u001b[0m\u001b[1;33m,\u001b[0m \u001b[0mfile\u001b[0m\u001b[1;33m)\u001b[0m\u001b[1;33m\u001b[0m\u001b[1;33m\u001b[0m\u001b[0m\n\u001b[0;32m     32\u001b[0m         \u001b[1;32mreturn\u001b[0m \u001b[0mbinary_path\u001b[0m\u001b[1;33m\u001b[0m\u001b[1;33m\u001b[0m\u001b[0m\n",
      "\u001b[1;32m~\\anaconda3\\lib\\site-packages\\webdriver_manager\\core\\download_manager.py\u001b[0m in \u001b[0;36mdownload_file\u001b[1;34m(self, url)\u001b[0m\n\u001b[0;32m     26\u001b[0m     \u001b[1;32mdef\u001b[0m \u001b[0mdownload_file\u001b[0m\u001b[1;33m(\u001b[0m\u001b[0mself\u001b[0m\u001b[1;33m,\u001b[0m \u001b[0murl\u001b[0m\u001b[1;33m:\u001b[0m \u001b[0mstr\u001b[0m\u001b[1;33m)\u001b[0m \u001b[1;33m->\u001b[0m \u001b[0mFile\u001b[0m\u001b[1;33m:\u001b[0m\u001b[1;33m\u001b[0m\u001b[1;33m\u001b[0m\u001b[0m\n\u001b[0;32m     27\u001b[0m         \u001b[0mlog\u001b[0m\u001b[1;33m(\u001b[0m\u001b[1;34mf\"About to download new driver from {url}\"\u001b[0m\u001b[1;33m)\u001b[0m\u001b[1;33m\u001b[0m\u001b[1;33m\u001b[0m\u001b[0m\n\u001b[1;32m---> 28\u001b[1;33m         \u001b[0mresponse\u001b[0m \u001b[1;33m=\u001b[0m \u001b[0mself\u001b[0m\u001b[1;33m.\u001b[0m\u001b[0m_http_client\u001b[0m\u001b[1;33m.\u001b[0m\u001b[0mget\u001b[0m\u001b[1;33m(\u001b[0m\u001b[0murl\u001b[0m\u001b[1;33m)\u001b[0m\u001b[1;33m\u001b[0m\u001b[1;33m\u001b[0m\u001b[0m\n\u001b[0m\u001b[0;32m     29\u001b[0m         \u001b[1;32mreturn\u001b[0m \u001b[0mFile\u001b[0m\u001b[1;33m(\u001b[0m\u001b[0mresponse\u001b[0m\u001b[1;33m)\u001b[0m\u001b[1;33m\u001b[0m\u001b[1;33m\u001b[0m\u001b[0m\n",
      "\u001b[1;32m~\\anaconda3\\lib\\site-packages\\webdriver_manager\\core\\http.py\u001b[0m in \u001b[0;36mget\u001b[1;34m(self, url, **kwargs)\u001b[0m\n\u001b[0;32m     37\u001b[0m         \u001b[0mself\u001b[0m\u001b[1;33m.\u001b[0m\u001b[0mvalidate_response\u001b[0m\u001b[1;33m(\u001b[0m\u001b[0mresp\u001b[0m\u001b[1;33m)\u001b[0m\u001b[1;33m\u001b[0m\u001b[1;33m\u001b[0m\u001b[0m\n\u001b[0;32m     38\u001b[0m         \u001b[1;32mif\u001b[0m \u001b[0mwdm_progress_bar\u001b[0m\u001b[1;33m(\u001b[0m\u001b[1;33m)\u001b[0m\u001b[1;33m:\u001b[0m\u001b[1;33m\u001b[0m\u001b[1;33m\u001b[0m\u001b[0m\n\u001b[1;32m---> 39\u001b[1;33m             \u001b[0mshow_download_progress\u001b[0m\u001b[1;33m(\u001b[0m\u001b[0mresp\u001b[0m\u001b[1;33m)\u001b[0m\u001b[1;33m\u001b[0m\u001b[1;33m\u001b[0m\u001b[0m\n\u001b[0m\u001b[0;32m     40\u001b[0m         \u001b[1;32mreturn\u001b[0m \u001b[0mresp\u001b[0m\u001b[1;33m\u001b[0m\u001b[1;33m\u001b[0m\u001b[0m\n\u001b[0;32m     41\u001b[0m \u001b[1;33m\u001b[0m\u001b[0m\n",
      "\u001b[1;32m~\\anaconda3\\lib\\site-packages\\webdriver_manager\\core\\utils.py\u001b[0m in \u001b[0;36mshow_download_progress\u001b[1;34m(response, _bytes_threshold)\u001b[0m\n\u001b[0;32m    263\u001b[0m         \u001b[0mcontent\u001b[0m \u001b[1;33m=\u001b[0m \u001b[0mbytearray\u001b[0m\u001b[1;33m(\u001b[0m\u001b[1;33m)\u001b[0m\u001b[1;33m\u001b[0m\u001b[1;33m\u001b[0m\u001b[0m\n\u001b[0;32m    264\u001b[0m         \u001b[0mprogress_bar\u001b[0m \u001b[1;33m=\u001b[0m \u001b[0mtqdm\u001b[0m\u001b[1;33m(\u001b[0m\u001b[0mdesc\u001b[0m\u001b[1;33m=\u001b[0m\u001b[1;34m\"[WDM] - Downloading\"\u001b[0m\u001b[1;33m,\u001b[0m \u001b[0mtotal\u001b[0m\u001b[1;33m=\u001b[0m\u001b[0mtotal\u001b[0m\u001b[1;33m,\u001b[0m \u001b[0munit_scale\u001b[0m\u001b[1;33m=\u001b[0m\u001b[1;32mTrue\u001b[0m\u001b[1;33m,\u001b[0m \u001b[0munit_divisor\u001b[0m\u001b[1;33m=\u001b[0m\u001b[1;36m1024\u001b[0m\u001b[1;33m,\u001b[0m \u001b[0munit\u001b[0m\u001b[1;33m=\u001b[0m\u001b[1;34m\"B\"\u001b[0m\u001b[1;33m)\u001b[0m\u001b[1;33m\u001b[0m\u001b[1;33m\u001b[0m\u001b[0m\n\u001b[1;32m--> 265\u001b[1;33m         \u001b[1;32mfor\u001b[0m \u001b[0mchunk\u001b[0m \u001b[1;32min\u001b[0m \u001b[0mresponse\u001b[0m\u001b[1;33m.\u001b[0m\u001b[0miter_content\u001b[0m\u001b[1;33m(\u001b[0m\u001b[0mchunk_size\u001b[0m\u001b[1;33m=\u001b[0m\u001b[1;36m8192\u001b[0m\u001b[1;33m)\u001b[0m\u001b[1;33m:\u001b[0m\u001b[1;33m\u001b[0m\u001b[1;33m\u001b[0m\u001b[0m\n\u001b[0m\u001b[0;32m    266\u001b[0m             \u001b[1;32mif\u001b[0m \u001b[0mchunk\u001b[0m\u001b[1;33m:\u001b[0m  \u001b[1;31m# Filter out keep-alive new chunks\u001b[0m\u001b[1;33m\u001b[0m\u001b[1;33m\u001b[0m\u001b[0m\n\u001b[0;32m    267\u001b[0m                 \u001b[0mprogress_bar\u001b[0m\u001b[1;33m.\u001b[0m\u001b[0mupdate\u001b[0m\u001b[1;33m(\u001b[0m\u001b[0mlen\u001b[0m\u001b[1;33m(\u001b[0m\u001b[0mchunk\u001b[0m\u001b[1;33m)\u001b[0m\u001b[1;33m)\u001b[0m\u001b[1;33m\u001b[0m\u001b[1;33m\u001b[0m\u001b[0m\n",
      "\u001b[1;32m~\\anaconda3\\lib\\site-packages\\requests\\models.py\u001b[0m in \u001b[0;36mgenerate\u001b[1;34m()\u001b[0m\n\u001b[0;32m    814\u001b[0m             \u001b[1;32mif\u001b[0m \u001b[0mhasattr\u001b[0m\u001b[1;33m(\u001b[0m\u001b[0mself\u001b[0m\u001b[1;33m.\u001b[0m\u001b[0mraw\u001b[0m\u001b[1;33m,\u001b[0m \u001b[1;34m\"stream\"\u001b[0m\u001b[1;33m)\u001b[0m\u001b[1;33m:\u001b[0m\u001b[1;33m\u001b[0m\u001b[1;33m\u001b[0m\u001b[0m\n\u001b[0;32m    815\u001b[0m                 \u001b[1;32mtry\u001b[0m\u001b[1;33m:\u001b[0m\u001b[1;33m\u001b[0m\u001b[1;33m\u001b[0m\u001b[0m\n\u001b[1;32m--> 816\u001b[1;33m                     \u001b[1;32myield\u001b[0m \u001b[1;32mfrom\u001b[0m \u001b[0mself\u001b[0m\u001b[1;33m.\u001b[0m\u001b[0mraw\u001b[0m\u001b[1;33m.\u001b[0m\u001b[0mstream\u001b[0m\u001b[1;33m(\u001b[0m\u001b[0mchunk_size\u001b[0m\u001b[1;33m,\u001b[0m \u001b[0mdecode_content\u001b[0m\u001b[1;33m=\u001b[0m\u001b[1;32mTrue\u001b[0m\u001b[1;33m)\u001b[0m\u001b[1;33m\u001b[0m\u001b[1;33m\u001b[0m\u001b[0m\n\u001b[0m\u001b[0;32m    817\u001b[0m                 \u001b[1;32mexcept\u001b[0m \u001b[0mProtocolError\u001b[0m \u001b[1;32mas\u001b[0m \u001b[0me\u001b[0m\u001b[1;33m:\u001b[0m\u001b[1;33m\u001b[0m\u001b[1;33m\u001b[0m\u001b[0m\n\u001b[0;32m    818\u001b[0m                     \u001b[1;32mraise\u001b[0m \u001b[0mChunkedEncodingError\u001b[0m\u001b[1;33m(\u001b[0m\u001b[0me\u001b[0m\u001b[1;33m)\u001b[0m\u001b[1;33m\u001b[0m\u001b[1;33m\u001b[0m\u001b[0m\n",
      "\u001b[1;32m~\\anaconda3\\lib\\site-packages\\urllib3\\response.py\u001b[0m in \u001b[0;36mstream\u001b[1;34m(self, amt, decode_content)\u001b[0m\n\u001b[0;32m    625\u001b[0m         \u001b[1;32melse\u001b[0m\u001b[1;33m:\u001b[0m\u001b[1;33m\u001b[0m\u001b[1;33m\u001b[0m\u001b[0m\n\u001b[0;32m    626\u001b[0m             \u001b[1;32mwhile\u001b[0m \u001b[1;32mnot\u001b[0m \u001b[0mis_fp_closed\u001b[0m\u001b[1;33m(\u001b[0m\u001b[0mself\u001b[0m\u001b[1;33m.\u001b[0m\u001b[0m_fp\u001b[0m\u001b[1;33m)\u001b[0m\u001b[1;33m:\u001b[0m\u001b[1;33m\u001b[0m\u001b[1;33m\u001b[0m\u001b[0m\n\u001b[1;32m--> 627\u001b[1;33m                 \u001b[0mdata\u001b[0m \u001b[1;33m=\u001b[0m \u001b[0mself\u001b[0m\u001b[1;33m.\u001b[0m\u001b[0mread\u001b[0m\u001b[1;33m(\u001b[0m\u001b[0mamt\u001b[0m\u001b[1;33m=\u001b[0m\u001b[0mamt\u001b[0m\u001b[1;33m,\u001b[0m \u001b[0mdecode_content\u001b[0m\u001b[1;33m=\u001b[0m\u001b[0mdecode_content\u001b[0m\u001b[1;33m)\u001b[0m\u001b[1;33m\u001b[0m\u001b[1;33m\u001b[0m\u001b[0m\n\u001b[0m\u001b[0;32m    628\u001b[0m \u001b[1;33m\u001b[0m\u001b[0m\n\u001b[0;32m    629\u001b[0m                 \u001b[1;32mif\u001b[0m \u001b[0mdata\u001b[0m\u001b[1;33m:\u001b[0m\u001b[1;33m\u001b[0m\u001b[1;33m\u001b[0m\u001b[0m\n",
      "\u001b[1;32m~\\anaconda3\\lib\\site-packages\\urllib3\\response.py\u001b[0m in \u001b[0;36mread\u001b[1;34m(self, amt, decode_content, cache_content)\u001b[0m\n\u001b[0;32m    564\u001b[0m \u001b[1;33m\u001b[0m\u001b[0m\n\u001b[0;32m    565\u001b[0m         \u001b[1;32mwith\u001b[0m \u001b[0mself\u001b[0m\u001b[1;33m.\u001b[0m\u001b[0m_error_catcher\u001b[0m\u001b[1;33m(\u001b[0m\u001b[1;33m)\u001b[0m\u001b[1;33m:\u001b[0m\u001b[1;33m\u001b[0m\u001b[1;33m\u001b[0m\u001b[0m\n\u001b[1;32m--> 566\u001b[1;33m             \u001b[0mdata\u001b[0m \u001b[1;33m=\u001b[0m \u001b[0mself\u001b[0m\u001b[1;33m.\u001b[0m\u001b[0m_fp_read\u001b[0m\u001b[1;33m(\u001b[0m\u001b[0mamt\u001b[0m\u001b[1;33m)\u001b[0m \u001b[1;32mif\u001b[0m \u001b[1;32mnot\u001b[0m \u001b[0mfp_closed\u001b[0m \u001b[1;32melse\u001b[0m \u001b[1;34mb\"\"\u001b[0m\u001b[1;33m\u001b[0m\u001b[1;33m\u001b[0m\u001b[0m\n\u001b[0m\u001b[0;32m    567\u001b[0m             \u001b[1;32mif\u001b[0m \u001b[0mamt\u001b[0m \u001b[1;32mis\u001b[0m \u001b[1;32mNone\u001b[0m\u001b[1;33m:\u001b[0m\u001b[1;33m\u001b[0m\u001b[1;33m\u001b[0m\u001b[0m\n\u001b[0;32m    568\u001b[0m                 \u001b[0mflush_decoder\u001b[0m \u001b[1;33m=\u001b[0m \u001b[1;32mTrue\u001b[0m\u001b[1;33m\u001b[0m\u001b[1;33m\u001b[0m\u001b[0m\n",
      "\u001b[1;32m~\\anaconda3\\lib\\site-packages\\urllib3\\response.py\u001b[0m in \u001b[0;36m_fp_read\u001b[1;34m(self, amt)\u001b[0m\n\u001b[0;32m    530\u001b[0m         \u001b[1;32melse\u001b[0m\u001b[1;33m:\u001b[0m\u001b[1;33m\u001b[0m\u001b[1;33m\u001b[0m\u001b[0m\n\u001b[0;32m    531\u001b[0m             \u001b[1;31m# StringIO doesn't like amt=None\u001b[0m\u001b[1;33m\u001b[0m\u001b[1;33m\u001b[0m\u001b[0m\n\u001b[1;32m--> 532\u001b[1;33m             \u001b[1;32mreturn\u001b[0m \u001b[0mself\u001b[0m\u001b[1;33m.\u001b[0m\u001b[0m_fp\u001b[0m\u001b[1;33m.\u001b[0m\u001b[0mread\u001b[0m\u001b[1;33m(\u001b[0m\u001b[0mamt\u001b[0m\u001b[1;33m)\u001b[0m \u001b[1;32mif\u001b[0m \u001b[0mamt\u001b[0m \u001b[1;32mis\u001b[0m \u001b[1;32mnot\u001b[0m \u001b[1;32mNone\u001b[0m \u001b[1;32melse\u001b[0m \u001b[0mself\u001b[0m\u001b[1;33m.\u001b[0m\u001b[0m_fp\u001b[0m\u001b[1;33m.\u001b[0m\u001b[0mread\u001b[0m\u001b[1;33m(\u001b[0m\u001b[1;33m)\u001b[0m\u001b[1;33m\u001b[0m\u001b[1;33m\u001b[0m\u001b[0m\n\u001b[0m\u001b[0;32m    533\u001b[0m \u001b[1;33m\u001b[0m\u001b[0m\n\u001b[0;32m    534\u001b[0m     \u001b[1;32mdef\u001b[0m \u001b[0mread\u001b[0m\u001b[1;33m(\u001b[0m\u001b[0mself\u001b[0m\u001b[1;33m,\u001b[0m \u001b[0mamt\u001b[0m\u001b[1;33m=\u001b[0m\u001b[1;32mNone\u001b[0m\u001b[1;33m,\u001b[0m \u001b[0mdecode_content\u001b[0m\u001b[1;33m=\u001b[0m\u001b[1;32mNone\u001b[0m\u001b[1;33m,\u001b[0m \u001b[0mcache_content\u001b[0m\u001b[1;33m=\u001b[0m\u001b[1;32mFalse\u001b[0m\u001b[1;33m)\u001b[0m\u001b[1;33m:\u001b[0m\u001b[1;33m\u001b[0m\u001b[1;33m\u001b[0m\u001b[0m\n",
      "\u001b[1;32m~\\anaconda3\\lib\\http\\client.py\u001b[0m in \u001b[0;36mread\u001b[1;34m(self, amt)\u001b[0m\n\u001b[0;32m    461\u001b[0m             \u001b[1;31m# Amount is given, implement using readinto\u001b[0m\u001b[1;33m\u001b[0m\u001b[1;33m\u001b[0m\u001b[0m\n\u001b[0;32m    462\u001b[0m             \u001b[0mb\u001b[0m \u001b[1;33m=\u001b[0m \u001b[0mbytearray\u001b[0m\u001b[1;33m(\u001b[0m\u001b[0mamt\u001b[0m\u001b[1;33m)\u001b[0m\u001b[1;33m\u001b[0m\u001b[1;33m\u001b[0m\u001b[0m\n\u001b[1;32m--> 463\u001b[1;33m             \u001b[0mn\u001b[0m \u001b[1;33m=\u001b[0m \u001b[0mself\u001b[0m\u001b[1;33m.\u001b[0m\u001b[0mreadinto\u001b[0m\u001b[1;33m(\u001b[0m\u001b[0mb\u001b[0m\u001b[1;33m)\u001b[0m\u001b[1;33m\u001b[0m\u001b[1;33m\u001b[0m\u001b[0m\n\u001b[0m\u001b[0;32m    464\u001b[0m             \u001b[1;32mreturn\u001b[0m \u001b[0mmemoryview\u001b[0m\u001b[1;33m(\u001b[0m\u001b[0mb\u001b[0m\u001b[1;33m)\u001b[0m\u001b[1;33m[\u001b[0m\u001b[1;33m:\u001b[0m\u001b[0mn\u001b[0m\u001b[1;33m]\u001b[0m\u001b[1;33m.\u001b[0m\u001b[0mtobytes\u001b[0m\u001b[1;33m(\u001b[0m\u001b[1;33m)\u001b[0m\u001b[1;33m\u001b[0m\u001b[1;33m\u001b[0m\u001b[0m\n\u001b[0;32m    465\u001b[0m         \u001b[1;32melse\u001b[0m\u001b[1;33m:\u001b[0m\u001b[1;33m\u001b[0m\u001b[1;33m\u001b[0m\u001b[0m\n",
      "\u001b[1;32m~\\anaconda3\\lib\\http\\client.py\u001b[0m in \u001b[0;36mreadinto\u001b[1;34m(self, b)\u001b[0m\n\u001b[0;32m    505\u001b[0m         \u001b[1;31m# connection, and the user is reading more bytes than will be provided\u001b[0m\u001b[1;33m\u001b[0m\u001b[1;33m\u001b[0m\u001b[0m\n\u001b[0;32m    506\u001b[0m         \u001b[1;31m# (for example, reading in 1k chunks)\u001b[0m\u001b[1;33m\u001b[0m\u001b[1;33m\u001b[0m\u001b[0m\n\u001b[1;32m--> 507\u001b[1;33m         \u001b[0mn\u001b[0m \u001b[1;33m=\u001b[0m \u001b[0mself\u001b[0m\u001b[1;33m.\u001b[0m\u001b[0mfp\u001b[0m\u001b[1;33m.\u001b[0m\u001b[0mreadinto\u001b[0m\u001b[1;33m(\u001b[0m\u001b[0mb\u001b[0m\u001b[1;33m)\u001b[0m\u001b[1;33m\u001b[0m\u001b[1;33m\u001b[0m\u001b[0m\n\u001b[0m\u001b[0;32m    508\u001b[0m         \u001b[1;32mif\u001b[0m \u001b[1;32mnot\u001b[0m \u001b[0mn\u001b[0m \u001b[1;32mand\u001b[0m \u001b[0mb\u001b[0m\u001b[1;33m:\u001b[0m\u001b[1;33m\u001b[0m\u001b[1;33m\u001b[0m\u001b[0m\n\u001b[0;32m    509\u001b[0m             \u001b[1;31m# Ideally, we would raise IncompleteRead if the content-length\u001b[0m\u001b[1;33m\u001b[0m\u001b[1;33m\u001b[0m\u001b[0m\n",
      "\u001b[1;32m~\\anaconda3\\lib\\socket.py\u001b[0m in \u001b[0;36mreadinto\u001b[1;34m(self, b)\u001b[0m\n\u001b[0;32m    702\u001b[0m         \u001b[1;32mwhile\u001b[0m \u001b[1;32mTrue\u001b[0m\u001b[1;33m:\u001b[0m\u001b[1;33m\u001b[0m\u001b[1;33m\u001b[0m\u001b[0m\n\u001b[0;32m    703\u001b[0m             \u001b[1;32mtry\u001b[0m\u001b[1;33m:\u001b[0m\u001b[1;33m\u001b[0m\u001b[1;33m\u001b[0m\u001b[0m\n\u001b[1;32m--> 704\u001b[1;33m                 \u001b[1;32mreturn\u001b[0m \u001b[0mself\u001b[0m\u001b[1;33m.\u001b[0m\u001b[0m_sock\u001b[0m\u001b[1;33m.\u001b[0m\u001b[0mrecv_into\u001b[0m\u001b[1;33m(\u001b[0m\u001b[0mb\u001b[0m\u001b[1;33m)\u001b[0m\u001b[1;33m\u001b[0m\u001b[1;33m\u001b[0m\u001b[0m\n\u001b[0m\u001b[0;32m    705\u001b[0m             \u001b[1;32mexcept\u001b[0m \u001b[0mtimeout\u001b[0m\u001b[1;33m:\u001b[0m\u001b[1;33m\u001b[0m\u001b[1;33m\u001b[0m\u001b[0m\n\u001b[0;32m    706\u001b[0m                 \u001b[0mself\u001b[0m\u001b[1;33m.\u001b[0m\u001b[0m_timeout_occurred\u001b[0m \u001b[1;33m=\u001b[0m \u001b[1;32mTrue\u001b[0m\u001b[1;33m\u001b[0m\u001b[1;33m\u001b[0m\u001b[0m\n",
      "\u001b[1;32m~\\anaconda3\\lib\\ssl.py\u001b[0m in \u001b[0;36mrecv_into\u001b[1;34m(self, buffer, nbytes, flags)\u001b[0m\n\u001b[0;32m   1240\u001b[0m                   \u001b[1;34m\"non-zero flags not allowed in calls to recv_into() on %s\"\u001b[0m \u001b[1;33m%\u001b[0m\u001b[1;33m\u001b[0m\u001b[1;33m\u001b[0m\u001b[0m\n\u001b[0;32m   1241\u001b[0m                   self.__class__)\n\u001b[1;32m-> 1242\u001b[1;33m             \u001b[1;32mreturn\u001b[0m \u001b[0mself\u001b[0m\u001b[1;33m.\u001b[0m\u001b[0mread\u001b[0m\u001b[1;33m(\u001b[0m\u001b[0mnbytes\u001b[0m\u001b[1;33m,\u001b[0m \u001b[0mbuffer\u001b[0m\u001b[1;33m)\u001b[0m\u001b[1;33m\u001b[0m\u001b[1;33m\u001b[0m\u001b[0m\n\u001b[0m\u001b[0;32m   1243\u001b[0m         \u001b[1;32melse\u001b[0m\u001b[1;33m:\u001b[0m\u001b[1;33m\u001b[0m\u001b[1;33m\u001b[0m\u001b[0m\n\u001b[0;32m   1244\u001b[0m             \u001b[1;32mreturn\u001b[0m \u001b[0msuper\u001b[0m\u001b[1;33m(\u001b[0m\u001b[1;33m)\u001b[0m\u001b[1;33m.\u001b[0m\u001b[0mrecv_into\u001b[0m\u001b[1;33m(\u001b[0m\u001b[0mbuffer\u001b[0m\u001b[1;33m,\u001b[0m \u001b[0mnbytes\u001b[0m\u001b[1;33m,\u001b[0m \u001b[0mflags\u001b[0m\u001b[1;33m)\u001b[0m\u001b[1;33m\u001b[0m\u001b[1;33m\u001b[0m\u001b[0m\n",
      "\u001b[1;32m~\\anaconda3\\lib\\ssl.py\u001b[0m in \u001b[0;36mread\u001b[1;34m(self, len, buffer)\u001b[0m\n\u001b[0;32m   1098\u001b[0m         \u001b[1;32mtry\u001b[0m\u001b[1;33m:\u001b[0m\u001b[1;33m\u001b[0m\u001b[1;33m\u001b[0m\u001b[0m\n\u001b[0;32m   1099\u001b[0m             \u001b[1;32mif\u001b[0m \u001b[0mbuffer\u001b[0m \u001b[1;32mis\u001b[0m \u001b[1;32mnot\u001b[0m \u001b[1;32mNone\u001b[0m\u001b[1;33m:\u001b[0m\u001b[1;33m\u001b[0m\u001b[1;33m\u001b[0m\u001b[0m\n\u001b[1;32m-> 1100\u001b[1;33m                 \u001b[1;32mreturn\u001b[0m \u001b[0mself\u001b[0m\u001b[1;33m.\u001b[0m\u001b[0m_sslobj\u001b[0m\u001b[1;33m.\u001b[0m\u001b[0mread\u001b[0m\u001b[1;33m(\u001b[0m\u001b[0mlen\u001b[0m\u001b[1;33m,\u001b[0m \u001b[0mbuffer\u001b[0m\u001b[1;33m)\u001b[0m\u001b[1;33m\u001b[0m\u001b[1;33m\u001b[0m\u001b[0m\n\u001b[0m\u001b[0;32m   1101\u001b[0m             \u001b[1;32melse\u001b[0m\u001b[1;33m:\u001b[0m\u001b[1;33m\u001b[0m\u001b[1;33m\u001b[0m\u001b[0m\n\u001b[0;32m   1102\u001b[0m                 \u001b[1;32mreturn\u001b[0m \u001b[0mself\u001b[0m\u001b[1;33m.\u001b[0m\u001b[0m_sslobj\u001b[0m\u001b[1;33m.\u001b[0m\u001b[0mread\u001b[0m\u001b[1;33m(\u001b[0m\u001b[0mlen\u001b[0m\u001b[1;33m)\u001b[0m\u001b[1;33m\u001b[0m\u001b[1;33m\u001b[0m\u001b[0m\n",
      "\u001b[1;31mKeyboardInterrupt\u001b[0m: "
     ]
    }
   ],
   "source": [
    "service=EdgeService(EdgeChromiumDriverManager().install())"
   ]
  },
  {
   "cell_type": "code",
   "execution_count": null,
   "id": "87089359",
   "metadata": {},
   "outputs": [],
   "source": [
    "driver = webdriver.Edge(service=service)"
   ]
  },
  {
   "cell_type": "code",
   "execution_count": null,
   "id": "a01a453a",
   "metadata": {},
   "outputs": [],
   "source": [
    "url = 'https://charts.spotify.com/'\n",
    "\n",
    "username = 'tungbtt.2002@gmail.com' \n",
    "password = 'temp_@cc'"
   ]
  },
  {
   "cell_type": "code",
   "execution_count": null,
   "id": "183d277a",
   "metadata": {},
   "outputs": [],
   "source": [
    "driver.get(url)\n",
    "driver.implicitly_wait(5)\n",
    "\n",
    "driver.find_element(By.XPATH, '//*[@id=\"__next\"]/div/div/main/div[2]/div/header/div/div[2]/a/div[1]').click()\n",
    "driver.implicitly_wait(5)\n",
    "\n",
    "driver.find_element(By.XPATH, '//*[@id=\"login-username\"]').send_keys(username)\n",
    "driver.find_element(By.XPATH, '//*[@id=\"login-password\"]').send_keys(password)\n",
    "\n",
    "driver.implicitly_wait(2)\n",
    "driver.find_element(By.XPATH, '//*[@id=\"login-button\"]/span[1]').click()"
   ]
  },
  {
   "cell_type": "code",
   "execution_count": null,
   "id": "b2d7f663",
   "metadata": {},
   "outputs": [],
   "source": [
    "#driver.save_screenshot('test.png')"
   ]
  },
  {
   "cell_type": "markdown",
   "id": "afa6e780-3f11-4493-85fc-fcbe55ea8ca1",
   "metadata": {},
   "source": [
    "## **Lấy dữ liệu trong khoảng thời gian tùy ý:**\n",
    "\n",
    "Lưu ý nhớ kiểm tra `end_date` có tồn tại  hay không."
   ]
  },
  {
   "cell_type": "code",
   "execution_count": null,
   "id": "1ed22cce",
   "metadata": {},
   "outputs": [],
   "source": [
    "import pandas as pd\n",
    "import numpy as np"
   ]
  },
  {
   "cell_type": "code",
   "execution_count": null,
   "id": "c5146977-1ae8-454a-9fdc-ea61a24d0711",
   "metadata": {},
   "outputs": [],
   "source": [
    "import requests\n",
    "\n",
    "CLIENT_ID = '29942d75c20b46b9b01eb4cd31edff20'\n",
    "CLIENT_SECRET = 'e8905b5241e54a6b8340e94282abb615'"
   ]
  },
  {
   "cell_type": "code",
   "execution_count": null,
   "id": "288a76e1-08ce-45ab-920d-9bd1707b36da",
   "metadata": {},
   "outputs": [],
   "source": [
    "AUTH_URL = 'https://accounts.spotify.com/api/token'\n",
    "BASE_URL = 'https://api.spotify.com/v1/'"
   ]
  },
  {
   "cell_type": "code",
   "execution_count": null,
   "id": "6ea18537-8665-4220-91c9-3ecd1853a8f4",
   "metadata": {},
   "outputs": [],
   "source": [
    "import os\n",
    "from datetime import date\n",
    "from datetime import datetime, timedelta\n",
    "\n",
    "def generate_date_list(start_date,end_date):\n",
    "    current_date = start_date\n",
    "    date_list = []\n",
    "\n",
    "    while current_date <= end_date:\n",
    "        formatted_date = current_date.strftime('%Y-%m-%d')\n",
    "        date_list.append(formatted_date)\n",
    "        current_date += timedelta(days=1)\n",
    "\n",
    "    return date_list\n",
    "\n",
    "\n",
    "start_date = datetime(2023, 1, 1)\n",
    "end_date = datetime(2023, 9, 30)\n",
    "date_list = generate_date_list(start_date,end_date)\n",
    "print(date_list)"
   ]
  },
  {
   "cell_type": "code",
   "execution_count": null,
   "id": "ebf1ae7f-7b4a-4fa8-ae2f-6f9a8c017788",
   "metadata": {},
   "outputs": [],
   "source": [
    "len(date_list)"
   ]
  },
  {
   "cell_type": "code",
   "execution_count": null,
   "id": "ff8c6219-12f6-4ae4-ad8e-36114c11a817",
   "metadata": {},
   "outputs": [],
   "source": [
    "for d in date_list:\n",
    "    \n",
    "    print(d)\n",
    "    print(\"The Spotify Global Chart is being crawled...\")\n",
    "    driver.get(f\"https://charts.spotify.com/charts/view/regional-global-daily/{d}\")\n",
    "    \n",
    "    table = driver.find_element(By.CSS_SELECTOR, 'table').find_elements(By.TAG_NAME, 'tbody')[0]\n",
    "    rows = table.find_elements(By.TAG_NAME, 'tr')\n",
    "\n",
    "\n",
    "        \n",
    "    song_data_list = []            \n",
    "\n",
    "    for row in rows:\n",
    "\n",
    "        # lấy id\n",
    "        link_element = row.find_element(By.XPATH, './td[3]/div/div[2]/a') \n",
    "        link_href = link_element.get_attribute('href') # \n",
    "        \n",
    "        \n",
    "        # lấy dữ liệu của dòng\n",
    "        elements = row.find_elements(By.TAG_NAME, 'td')\n",
    "        \n",
    "        song_data = {\n",
    "            'date' : d,\n",
    "            'position' : int(elements[1].text.split('\\n')[0]),\n",
    "            'id' : link_href.replace('https://open.spotify.com/track/',''),\n",
    "            'track' : elements[2].text.split('\\n')[0],\n",
    "            'artist' : elements[2].text.split('\\n')[1],\n",
    "            'peak' : int(elements[3].text),\n",
    "            'prev' : int(elements[4].text) if elements[4].text != '—' else -1, # entry hoặc new sẽ mang giá trị -1\n",
    "            'streak' : int(elements[5].text),\n",
    "            'streams': int(elements[6].text.replace(',', ''))\n",
    "        }\n",
    "        \n",
    "        song_data_list.append(song_data)\n",
    "\n",
    "    global_chart = pd.DataFrame(song_data_list)    \n",
    "    print(len(global_chart))\n",
    "    \n",
    "    \n",
    "    header = not os.path.exists('global_chart_2023.csv') or os.stat('global_chart_2023.csv').st_size == 0\n",
    "    global_chart.to_csv('global_chart_2023.csv', mode='a', header=header, index=False)\n",
    "    \n",
    "    #------------------------------------------------------------\n",
    "    print(\"The Spotify Vietnam Chart is being crawled...\")\n",
    "    driver.get(f\"https://charts.spotify.com/charts/view/regional-vn-daily/{d}\")\n",
    "    \n",
    "    table = driver.find_element(By.CSS_SELECTOR, 'table').find_elements(By.TAG_NAME, 'tbody')[0]\n",
    "\n",
    "    rows = table.find_elements(By.TAG_NAME, 'tr')\n",
    "        \n",
    "    song_data_list = []            \n",
    "\n",
    "    for row in rows:\n",
    "\n",
    "        link_element = row.find_element(By.XPATH, './td[3]/div/div[2]/a')\n",
    "        link_href = link_element.get_attribute('href')\n",
    "        \n",
    "        elements = row.find_elements(By.TAG_NAME, 'td')\n",
    "        \n",
    "        song_data = {\n",
    "            'date' : d,\n",
    "            'position' : int(elements[1].text.split('\\n')[0]),\n",
    "            'id' : link_href.replace('https://open.spotify.com/track/',''),\n",
    "            'track' : elements[2].text.split('\\n')[0],\n",
    "            'artist' : elements[2].text.split('\\n')[1],\n",
    "            'peak' : int(elements[3].text),\n",
    "            'prev' : int(elements[4].text) if elements[4].text != '—' else -1, # entry hoặc new sẽ mang giá trị -1\n",
    "            'streak' : int(elements[5].text),\n",
    "            'streams': int(elements[6].text.replace(',', ''))\n",
    "        }\n",
    "        \n",
    "        song_data_list.append(song_data)\n",
    "\n",
    "\n",
    "    vn_chart = pd.DataFrame(song_data_list)\n",
    "    print(len(vn_chart))\n",
    "    header = not os.path.exists('vn_chart_2023.csv') or os.stat('vn_chart_2023.csv').st_size == 0\n",
    "    vn_chart.to_csv('vn_chart_2023.csv', mode='a', header=header, index=False)\n",
    "    \n",
    "    \n",
    "    #-------------------------------------\n",
    "    check = not os.path.exists('audio_features_2023.csv') or os.stat('audio_features_2023.csv').st_size == 0\n",
    "\n",
    "    if check:\n",
    "        exist_tracks = set()\n",
    "    else:\n",
    "        exist_tracks = set(pd.read_csv('audio_features_2023.csv')['id'])\n",
    "    \n",
    "    \n",
    "    vn_chart_ids = set(vn_chart['id'])\n",
    "    global_chart_ids = set(global_chart['id'])\n",
    "    not_exist_tracks = vn_chart_ids.union(global_chart_ids).difference(exist_tracks) # chỉ thu thập từ những bài chưa có\n",
    "    \n",
    "    if not_exist_tracks: \n",
    "        auth_response = requests.post(AUTH_URL, {\n",
    "            'grant_type': 'client_credentials',\n",
    "            'client_id': CLIENT_ID,\n",
    "            'client_secret': CLIENT_SECRET,\n",
    "        })\n",
    "    \n",
    "        headers = {\n",
    "        'Authorization': 'Bearer {token}'.format(token=access_token)\n",
    "        }\n",
    "        # convert the response to JSON\n",
    "        auth_response_data = auth_response.json()\n",
    "        # save the access token\n",
    "        access_token = auth_response_data['access_token']\n",
    "    \n",
    "    audio_features_data = []\n",
    "    print(\"The audio features are being crawled...\")\n",
    "    \n",
    "    for track_id in not_exist_tracks:\n",
    "        r = requests.get(BASE_URL + 'audio-features/' + track_id, headers=headers).json()\n",
    "        in4 = requests.get(BASE_URL + 'tracks/' + track_id, headers=headers).json()\n",
    "    \n",
    "        r['explicit'] = in4['explicit']\n",
    "        r['popularity'] = in4['popularity']\n",
    "        r['release_date'] = in4['album']['release_date']\n",
    "        r['album_id'] = in4['album']['id']\n",
    "        r['album_name'] = in4['album']['name']\n",
    "        r['track_number'] = in4['track_number']\n",
    "        r['preview_url'] = in4['preview_url']\n",
    "    \n",
    "        audio_features_data.append(r)\n",
    "    \n",
    "    audio_features = pd.DataFrame(audio_features_data)\n",
    "    print(len(audio_features))\n",
    "    \n",
    "    if len(audio_features) != 0:\n",
    "        audio_features = audio_features.set_index('id').reset_index().drop(columns=['type','uri','track_href','analysis_url'])\n",
    "        audio_features.to_csv('audio_features_2023.csv', mode='a', header=check, index=False)\n",
    "    "
   ]
  },
  {
   "cell_type": "markdown",
   "id": "3692fce5-1336-49a7-8636-3ae4446789af",
   "metadata": {},
   "source": [
    "### **Lấy dữ liệu của ngày mới nhất**"
   ]
  },
  {
   "cell_type": "code",
   "execution_count": null,
   "id": "dfb40b51-8eda-4b4c-a944-9f57339adc1a",
   "metadata": {},
   "outputs": [],
   "source": [
    "from datetime import datetime\n",
    "\n",
    "def convert_to_desired_format(date_string):\n",
    "\n",
    "    month, day = date_string.split(' ')\n",
    "    month_number = datetime.strptime(month, '%B').month\n",
    "    current_year = datetime.now().year\n",
    "    \n",
    "    input_date = datetime(current_year, month_number, int(day))\n",
    "    if input_date < datetime.now():\n",
    "        year = current_year\n",
    "    else:\n",
    "        year = current_year - 1\n",
    "        \n",
    "    formatted_date = f\"{year}-{'{:02d}'.format(month_number)}-{day}\"\n",
    "    return formatted_date"
   ]
  },
  {
   "cell_type": "code",
   "execution_count": null,
   "id": "9da6c258",
   "metadata": {},
   "outputs": [],
   "source": [
    "date_picker_element = driver.find_element(By.XPATH, '//*[@id=\"date_picker\"]')\n",
    "date = convert_to_desired_format(date_picker_element.get_attribute('value'))\n",
    "\n",
    "table = driver.find_element(By.CSS_SELECTOR, 'table').find_elements(By.TAG_NAME, 'tbody')[0]\n",
    "rows = table.find_elements(By.TAG_NAME, 'tr')\n",
    "\n",
    "#table = driver.find_element(By.XPATH, '//*[@id=\"__next\"]/div/div/main/div[2]/div[3]/div/table')\n",
    "        \n",
    "song_data_list = []            \n",
    "\n",
    "for row in rows:\n",
    "\n",
    "        link_element = row.find_element(By.XPATH, './td[3]/div/div[2]/a')\n",
    "        link_href = link_element.get_attribute('href')\n",
    "        \n",
    "        elements = row.find_elements(By.TAG_NAME, 'td')\n",
    "        \n",
    "        song_data = {\n",
    "            'date' : date,\n",
    "            'position' : int(elements[1].text.split('\\n')[0]),\n",
    "            'id' : link_href.replace('https://open.spotify.com/track/',''),\n",
    "            'track' : elements[2].text.split('\\n')[0],\n",
    "            'artist' : elements[2].text.split('\\n')[1],\n",
    "            'peak' : int(elements[3].text),\n",
    "            'prev' : int(elements[4].text) if elements[4].text != '—' else -1,\n",
    "            'streak' : int(elements[5].text),\n",
    "            'streams': int(elements[6].text.replace(',', ''))\n",
    "        }\n",
    "        \n",
    "        song_data_list.append(song_data)\n",
    "\n",
    "\n",
    "global_chart = pd.DataFrame(song_data_list)"
   ]
  },
  {
   "cell_type": "code",
   "execution_count": null,
   "id": "067dabeb",
   "metadata": {},
   "outputs": [],
   "source": [
    "display(global_chart)"
   ]
  },
  {
   "cell_type": "code",
   "execution_count": null,
   "id": "b1659c3e",
   "metadata": {},
   "outputs": [],
   "source": [
    "import os"
   ]
  },
  {
   "cell_type": "code",
   "execution_count": null,
   "id": "ae3c2aba",
   "metadata": {},
   "outputs": [],
   "source": [
    "header = not os.path.exists('global_chart.csv') or os.stat('global_chart.csv').st_size == 0\n",
    "global_chart.to_csv('global_chart.csv', mode='a', header=header, index=False)"
   ]
  },
  {
   "cell_type": "code",
   "execution_count": null,
   "id": "490de485",
   "metadata": {},
   "outputs": [],
   "source": [
    "driver.get(\"https://charts.spotify.com/charts/view/regional-vn-daily/latest\")"
   ]
  },
  {
   "cell_type": "code",
   "execution_count": null,
   "id": "13aa05e4",
   "metadata": {},
   "outputs": [],
   "source": [
    "date_picker_element = driver.find_element(By.XPATH, '//*[@id=\"date_picker\"]')\n",
    "date = convert_to_desired_format(date_picker_element.get_attribute('value'))\n",
    "\n",
    "table = driver.find_element(By.CSS_SELECTOR, 'table').find_elements(By.TAG_NAME, 'tbody')[0]\n",
    "\n",
    "rows = table.find_elements(By.TAG_NAME, 'tr')\n",
    "        \n",
    "song_data_list = []            \n",
    "\n",
    "for row in rows:\n",
    "\n",
    "        link_element = row.find_element(By.XPATH, './td[3]/div/div[2]/a')\n",
    "        link_href = link_element.get_attribute('href')\n",
    "        \n",
    "        elements = row.find_elements(By.TAG_NAME, 'td')\n",
    "        \n",
    "        song_data = {\n",
    "            'date' : date,\n",
    "            'position' : int(elements[1].text.split('\\n')[0]),\n",
    "            'id' : link_href.replace('https://open.spotify.com/track/',''),\n",
    "            'track' : elements[2].text.split('\\n')[0],\n",
    "            'artist' : elements[2].text.split('\\n')[1],\n",
    "            'peak' : int(elements[3].text),\n",
    "            'prev' : int(elements[4].text) if elements[4].text != '—' else -1,\n",
    "            'streak' : int(elements[5].text),\n",
    "            'streams': int(elements[6].text.replace(',', ''))\n",
    "        }\n",
    "        \n",
    "        song_data_list.append(song_data)\n",
    "\n",
    "\n",
    "vn_chart = pd.DataFrame(song_data_list)"
   ]
  },
  {
   "cell_type": "code",
   "execution_count": null,
   "id": "1a03b5a1",
   "metadata": {},
   "outputs": [],
   "source": [
    "display(vn_chart)"
   ]
  },
  {
   "cell_type": "code",
   "execution_count": null,
   "id": "e1b6ce98",
   "metadata": {},
   "outputs": [],
   "source": [
    "driver.quit()"
   ]
  },
  {
   "cell_type": "code",
   "execution_count": null,
   "id": "7aef1d48",
   "metadata": {},
   "outputs": [],
   "source": [
    "header = not os.path.exists('vn_chart.csv') or os.stat('vn_chart.csv').st_size == 0\n",
    "vn_chart.to_csv('vn_chart.csv', mode='a', header=header, index=False)"
   ]
  },
  {
   "cell_type": "code",
   "execution_count": null,
   "id": "b05307f5",
   "metadata": {},
   "outputs": [],
   "source": [
    "import requests\n",
    "\n",
    "CLIENT_ID = '29942d75c20b46b9b01eb4cd31edff20'\n",
    "CLIENT_SECRET = 'e8905b5241e54a6b8340e94282abb615'"
   ]
  },
  {
   "cell_type": "code",
   "execution_count": null,
   "id": "cdc4aad5",
   "metadata": {},
   "outputs": [],
   "source": [
    "AUTH_URL = 'https://accounts.spotify.com/api/token'\n",
    "\n",
    "# POST\n",
    "auth_response = requests.post(AUTH_URL, {\n",
    "    'grant_type': 'client_credentials',\n",
    "    'client_id': CLIENT_ID,\n",
    "    'client_secret': CLIENT_SECRET,\n",
    "})\n",
    "\n",
    "# convert the response to JSON\n",
    "auth_response_data = auth_response.json()\n",
    "\n",
    "# save the access token\n",
    "access_token = auth_response_data['access_token']"
   ]
  },
  {
   "cell_type": "code",
   "execution_count": null,
   "id": "2287c041",
   "metadata": {},
   "outputs": [],
   "source": [
    "headers = {\n",
    "    'Authorization': 'Bearer {token}'.format(token=access_token)\n",
    "}\n",
    "\n",
    "BASE_URL = 'https://api.spotify.com/v1/'"
   ]
  },
  {
   "cell_type": "code",
   "execution_count": null,
   "id": "17ab4f31",
   "metadata": {},
   "outputs": [],
   "source": [
    "check = not os.path.exists('audio_features.csv') or os.stat('audio_features.csv').st_size == 0\n",
    "\n",
    "if check:\n",
    "    exist_tracks = set()\n",
    "else:\n",
    "    exist_tracks = set(pd.read_csv('audio_features.csv')['id'])"
   ]
  },
  {
   "cell_type": "code",
   "execution_count": null,
   "id": "8bf4de3b",
   "metadata": {},
   "outputs": [],
   "source": [
    "vn_chart_ids = set(vn_chart['id'])\n",
    "global_chart_ids = set(global_chart['id'])\n",
    "\n",
    "not_exist_tracks = vn_chart_ids.union(global_chart_ids).difference(exist_tracks)"
   ]
  },
  {
   "cell_type": "code",
   "execution_count": null,
   "id": "577ac7b0",
   "metadata": {},
   "outputs": [],
   "source": [
    "audio_features_data = []\n",
    "\n",
    "for track_id in not_exist_tracks:\n",
    "    r = requests.get(BASE_URL + 'audio-features/' + track_id, headers=headers).json()\n",
    "    in4 = requests.get(BASE_URL + 'tracks/' + track_id, headers=headers).json()\n",
    "    \n",
    "    r['explicit'] = in4['explicit']\n",
    "    r['popularity'] = in4['popularity']\n",
    "    r['release_date'] = in4['album']['release_date']\n",
    "    r['album_id'] = in4['album']['id']\n",
    "    r['album_name'] = in4['album']['name']\n",
    "    r['track_number'] = in4['track_number']\n",
    "    r['preview_url'] = in4['preview_url']\n",
    "    \n",
    "    audio_features_data.append(r)\n",
    "    \n",
    "audio_features = pd.DataFrame(audio_features_data)"
   ]
  },
  {
   "cell_type": "code",
   "execution_count": null,
   "id": "cd31da39",
   "metadata": {},
   "outputs": [],
   "source": [
    "if len(audio_features) != 0:\n",
    "    audio_features = audio_features.set_index('id').reset_index().drop(columns=['type','uri','track_href','analysis_url'])\n",
    "    audio_features.to_csv('audio_features.csv', mode='a', header=check, index=False)"
   ]
  },
  {
   "cell_type": "code",
   "execution_count": null,
   "id": "e8339e74",
   "metadata": {},
   "outputs": [
    {
     "name": "stderr",
     "output_type": "stream",
     "text": [
      "[WDM] - Downloading:  12%|█▏        | 984k/7.86M [00:20<00:06, 1.12MB/s]"
     ]
    }
   ],
   "source": [
    "audio_features"
   ]
  }
 ],
 "metadata": {
  "kernelspec": {
   "display_name": "Python 3 (ipykernel)",
   "language": "python",
   "name": "python3"
  },
  "language_info": {
   "codemirror_mode": {
    "name": "ipython",
    "version": 3
   },
   "file_extension": ".py",
   "mimetype": "text/x-python",
   "name": "python",
   "nbconvert_exporter": "python",
   "pygments_lexer": "ipython3",
   "version": "3.9.13"
  }
 },
 "nbformat": 4,
 "nbformat_minor": 5
}
