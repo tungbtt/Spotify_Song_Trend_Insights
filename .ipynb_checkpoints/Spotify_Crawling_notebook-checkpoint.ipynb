{
 "cells": [
  {
   "cell_type": "code",
   "execution_count": 1,
   "id": "654d38cb",
   "metadata": {},
   "outputs": [],
   "source": [
    "#!pip install bs4\n",
    "#!pip install selenium\n",
    "#!pip install webdriver-manager"
   ]
  },
  {
   "cell_type": "code",
   "execution_count": 1,
   "id": "12897b77",
   "metadata": {},
   "outputs": [],
   "source": [
    "from selenium import webdriver\n",
    "from selenium.webdriver.edge.service import Service as EdgeService\n",
    "from webdriver_manager.microsoft import EdgeChromiumDriverManager\n",
    "\n",
    "'''\n",
    "options = webdriver.ChromeOptions()\n",
    "options.add_argument('--no-sandbox')\n",
    "#options.add_argument('--headless')  #ẩn cửa sổ chrome\n",
    "options.add_argument(\"--window-size=1920,1080\")\n",
    "'''\n",
    "\n",
    "from selenium.webdriver.common.keys import Keys\n",
    "from selenium.webdriver.common.by import By\n",
    "import time"
   ]
  },
  {
   "cell_type": "code",
   "execution_count": 2,
   "id": "a8b8aad6",
   "metadata": {},
   "outputs": [
    {
     "name": "stderr",
     "output_type": "stream",
     "text": [
      "[WDM] - Downloading: 100%|██████████| 7.76M/7.76M [00:10<00:00, 798kB/s] \n"
     ]
    }
   ],
   "source": [
    "service=EdgeService(EdgeChromiumDriverManager().install())"
   ]
  },
  {
   "cell_type": "code",
   "execution_count": 3,
   "id": "87089359",
   "metadata": {},
   "outputs": [],
   "source": [
    "driver = webdriver.Edge(service=service)"
   ]
  },
  {
   "cell_type": "code",
   "execution_count": 4,
   "id": "a01a453a",
   "metadata": {},
   "outputs": [],
   "source": [
    "url = 'https://charts.spotify.com/'\n",
    "\n",
    "username = 'tungbtt.2002@gmail.com' \n",
    "password = '@cc_temp'"
   ]
  },
  {
   "cell_type": "code",
   "execution_count": 5,
   "id": "183d277a",
   "metadata": {},
   "outputs": [],
   "source": [
    "driver.get(url)\n",
    "driver.implicitly_wait(5)\n",
    "\n",
    "driver.find_element(By.XPATH, '//*[@id=\"__next\"]/div/div/main/div[2]/div/header/div/div[2]/a/div[1]').click()\n",
    "driver.implicitly_wait(5)\n",
    "\n",
    "driver.find_element(By.XPATH, '//*[@id=\"login-username\"]').send_keys(username)\n",
    "driver.find_element(By.XPATH, '//*[@id=\"login-password\"]').send_keys(password)\n",
    "\n",
    "driver.implicitly_wait(2)\n",
    "driver.find_element(By.XPATH, '//*[@id=\"login-button\"]/span[1]').click()"
   ]
  },
  {
   "cell_type": "code",
   "execution_count": null,
   "id": "b2d7f663",
   "metadata": {},
   "outputs": [],
   "source": [
    "#driver.save_screenshot('test.png')"
   ]
  },
  {
   "cell_type": "code",
   "execution_count": 6,
   "id": "1ed22cce",
   "metadata": {},
   "outputs": [],
   "source": [
    "import pandas as pd\n",
    "import numpy as np"
   ]
  },
  {
   "cell_type": "code",
   "execution_count": 7,
   "id": "c5146977-1ae8-454a-9fdc-ea61a24d0711",
   "metadata": {},
   "outputs": [],
   "source": [
    "import requests\n",
    "\n",
    "CLIENT_ID = '29942d75c20b46b9b01eb4cd31edff20'\n",
    "CLIENT_SECRET = 'e8905b5241e54a6b8340e94282abb615'"
   ]
  },
  {
   "cell_type": "code",
   "execution_count": 8,
   "id": "288a76e1-08ce-45ab-920d-9bd1707b36da",
   "metadata": {},
   "outputs": [],
   "source": [
    "AUTH_URL = 'https://accounts.spotify.com/api/token'\n",
    "BASE_URL = 'https://api.spotify.com/v1/'"
   ]
  },
  {
   "cell_type": "markdown",
   "id": "ceaddfe1-7763-4b1b-a6e4-8626fc89da5a",
   "metadata": {},
   "source": [
    "## **Lấy dữ liệu trong khoảng thời gian tùy ý:**\n",
    "\n",
    "Lưu ý nhớ kiểm tra `end_date` có tồn tại  hay không."
   ]
  },
  {
   "cell_type": "code",
   "execution_count": null,
   "id": "6ea18537-8665-4220-91c9-3ecd1853a8f4",
   "metadata": {},
   "outputs": [],
   "source": [
    "import os\n",
    "from datetime import date\n",
    "from datetime import datetime, timedelta\n",
    "\n",
    "def generate_date_list(start_date,end_date):\n",
    "    current_date = start_date\n",
    "    date_list = []\n",
    "\n",
    "    while current_date <= end_date:\n",
    "        formatted_date = current_date.strftime('%Y-%m-%d')\n",
    "        date_list.append(formatted_date)\n",
    "        current_date += timedelta(days=1)\n",
    "\n",
    "    return date_list\n",
    "\n",
    "\n",
    "start_date = datetime(2023, 1, 1)\n",
    "end_date = datetime(2023, 9, 30)\n",
    "date_list = generate_date_list(start_date,end_date)\n",
    "print(date_list)"
   ]
  },
  {
   "cell_type": "code",
   "execution_count": null,
   "id": "ebf1ae7f-7b4a-4fa8-ae2f-6f9a8c017788",
   "metadata": {},
   "outputs": [],
   "source": [
    "len(date_list)"
   ]
  },
  {
   "cell_type": "code",
   "execution_count": null,
   "id": "ff8c6219-12f6-4ae4-ad8e-36114c11a817",
   "metadata": {},
   "outputs": [],
   "source": [
    "for d in date_list:\n",
    "    \n",
    "    print(d)\n",
    "    print(\"The Spotify Global Chart is being crawled...\")\n",
    "    driver.get(f\"https://charts.spotify.com/charts/view/regional-global-daily/{d}\")\n",
    "    \n",
    "    table = driver.find_element(By.CSS_SELECTOR, 'table').find_elements(By.TAG_NAME, 'tbody')[0]\n",
    "    rows = table.find_elements(By.TAG_NAME, 'tr')\n",
    "\n",
    "\n",
    "        \n",
    "    song_data_list = []            \n",
    "\n",
    "    for row in rows:\n",
    "\n",
    "        # lấy id\n",
    "        link_element = row.find_element(By.XPATH, './td[3]/div/div[2]/a') \n",
    "        link_href = link_element.get_attribute('href') # \n",
    "        \n",
    "        \n",
    "        # lấy dữ liệu của dòng\n",
    "        elements = row.find_elements(By.TAG_NAME, 'td')\n",
    "        \n",
    "        song_data = {\n",
    "            'date' : d,\n",
    "            'position' : int(elements[1].text.split('\\n')[0]),\n",
    "            'id' : link_href.replace('https://open.spotify.com/track/',''),\n",
    "            'track' : elements[2].text.split('\\n')[0],\n",
    "            'artist' : elements[2].text.split('\\n')[1],\n",
    "            'peak' : int(elements[3].text),\n",
    "            'prev' : int(elements[4].text) if elements[4].text != '—' else -1, # entry hoặc new sẽ mang giá trị -1\n",
    "            'streak' : int(elements[5].text),\n",
    "            'streams': int(elements[6].text.replace(',', ''))\n",
    "        }\n",
    "        \n",
    "        song_data_list.append(song_data)\n",
    "\n",
    "    global_chart = pd.DataFrame(song_data_list)    \n",
    "    print(len(global_chart))\n",
    "    \n",
    "    \n",
    "    header = not os.path.exists('global_chart_2023.csv') or os.stat('global_chart_2023.csv').st_size == 0\n",
    "    global_chart.to_csv('global_chart_2023.csv', mode='a', header=header, index=False)\n",
    "    \n",
    "    #------------------------------------------------------------\n",
    "    print(\"The Spotify Vietnam Chart is being crawled...\")\n",
    "    driver.get(f\"https://charts.spotify.com/charts/view/regional-vn-daily/{d}\")\n",
    "    \n",
    "    table = driver.find_element(By.CSS_SELECTOR, 'table').find_elements(By.TAG_NAME, 'tbody')[0]\n",
    "\n",
    "    rows = table.find_elements(By.TAG_NAME, 'tr')\n",
    "        \n",
    "    song_data_list = []            \n",
    "\n",
    "    for row in rows:\n",
    "\n",
    "        link_element = row.find_element(By.XPATH, './td[3]/div/div[2]/a')\n",
    "        link_href = link_element.get_attribute('href')\n",
    "        \n",
    "        elements = row.find_elements(By.TAG_NAME, 'td')\n",
    "        \n",
    "        song_data = {\n",
    "            'date' : d,\n",
    "            'position' : int(elements[1].text.split('\\n')[0]),\n",
    "            'id' : link_href.replace('https://open.spotify.com/track/',''),\n",
    "            'track' : elements[2].text.split('\\n')[0],\n",
    "            'artist' : elements[2].text.split('\\n')[1],\n",
    "            'peak' : int(elements[3].text),\n",
    "            'prev' : int(elements[4].text) if elements[4].text != '—' else -1, # entry hoặc new sẽ mang giá trị -1\n",
    "            'streak' : int(elements[5].text),\n",
    "            'streams': int(elements[6].text.replace(',', ''))\n",
    "        }\n",
    "        \n",
    "        song_data_list.append(song_data)\n",
    "\n",
    "\n",
    "    vn_chart = pd.DataFrame(song_data_list)\n",
    "    print(len(vn_chart))\n",
    "    header = not os.path.exists('vn_chart_2023.csv') or os.stat('vn_chart_2023.csv').st_size == 0\n",
    "    vn_chart.to_csv('vn_chart_2023.csv', mode='a', header=header, index=False)\n",
    "    \n",
    "    \n",
    "    #-------------------------------------\n",
    "    check = not os.path.exists('audio_features_2023.csv') or os.stat('audio_features_2023.csv').st_size == 0\n",
    "\n",
    "    if check:\n",
    "        exist_tracks = set()\n",
    "    else:\n",
    "        exist_tracks = set(pd.read_csv('audio_features_2023.csv')['id'])\n",
    "    \n",
    "    \n",
    "    vn_chart_ids = set(vn_chart['id'])\n",
    "    global_chart_ids = set(global_chart['id'])\n",
    "    not_exist_tracks = vn_chart_ids.union(global_chart_ids).difference(exist_tracks) # chỉ thu thập từ những bài chưa có\n",
    "    \n",
    "    if not_exist_tracks: \n",
    "        auth_response = requests.post(AUTH_URL, {\n",
    "            'grant_type': 'client_credentials',\n",
    "            'client_id': CLIENT_ID,\n",
    "            'client_secret': CLIENT_SECRET,\n",
    "        })\n",
    "    \n",
    "        headers = {\n",
    "        'Authorization': 'Bearer {token}'.format(token=access_token)\n",
    "        }\n",
    "        # convert the response to JSON\n",
    "        auth_response_data = auth_response.json()\n",
    "        # save the access token\n",
    "        access_token = auth_response_data['access_token']\n",
    "    \n",
    "    audio_features_data = []\n",
    "    print(\"The audio features are being crawled...\")\n",
    "    \n",
    "    for track_id in not_exist_tracks:\n",
    "        r = requests.get(BASE_URL + 'audio-features/' + track_id, headers=headers).json()\n",
    "        in4 = requests.get(BASE_URL + 'tracks/' + track_id, headers=headers).json()\n",
    "    \n",
    "        r['explicit'] = in4['explicit']\n",
    "        r['popularity'] = in4['popularity']\n",
    "        r['release_date'] = in4['album']['release_date']\n",
    "        r['album_id'] = in4['album']['id']\n",
    "        r['album_name'] = in4['album']['name']\n",
    "        r['track_number'] = in4['track_number']\n",
    "        r['preview_url'] = in4['preview_url']\n",
    "    \n",
    "        audio_features_data.append(r)\n",
    "    \n",
    "    audio_features = pd.DataFrame(audio_features_data)\n",
    "    print(len(audio_features))\n",
    "    \n",
    "    if len(audio_features) != 0:\n",
    "        audio_features = audio_features.set_index('id').reset_index().drop(columns=['type','uri','track_href','analysis_url'])\n",
    "        audio_features.to_csv('audio_features_2023.csv', mode='a', header=check, index=False)\n",
    "    "
   ]
  },
  {
   "cell_type": "markdown",
   "id": "3692fce5-1336-49a7-8636-3ae4446789af",
   "metadata": {},
   "source": [
    "### **Lấy dữ liệu của ngày mới nhất**"
   ]
  },
  {
   "cell_type": "code",
   "execution_count": null,
   "id": "dfb40b51-8eda-4b4c-a944-9f57339adc1a",
   "metadata": {},
   "outputs": [],
   "source": [
    "from datetime import datetime\n",
    "\n",
    "def convert_to_desired_format(date_string):\n",
    "\n",
    "    month, day = date_string.split(' ')\n",
    "    month_number = datetime.strptime(month, '%B').month\n",
    "    current_year = datetime.now().year\n",
    "    \n",
    "    input_date = datetime(current_year, month_number, int(day))\n",
    "    if input_date < datetime.now():\n",
    "        year = current_year\n",
    "    else:\n",
    "        year = current_year - 1\n",
    "        \n",
    "    formatted_date = f\"{year}-{'{:02d}'.format(month_number)}-{day}\"\n",
    "    return formatted_date"
   ]
  },
  {
   "cell_type": "code",
   "execution_count": null,
   "id": "9da6c258",
   "metadata": {},
   "outputs": [],
   "source": [
    "date_picker_element = driver.find_element(By.XPATH, '//*[@id=\"date_picker\"]')\n",
    "date = convert_to_desired_format(date_picker_element.get_attribute('value'))\n",
    "\n",
    "table = driver.find_element(By.CSS_SELECTOR, 'table').find_elements(By.TAG_NAME, 'tbody')[0]\n",
    "rows = table.find_elements(By.TAG_NAME, 'tr')\n",
    "\n",
    "#table = driver.find_element(By.XPATH, '//*[@id=\"__next\"]/div/div/main/div[2]/div[3]/div/table')\n",
    "        \n",
    "song_data_list = []            \n",
    "\n",
    "for row in rows:\n",
    "\n",
    "        link_element = row.find_element(By.XPATH, './td[3]/div/div[2]/a')\n",
    "        link_href = link_element.get_attribute('href')\n",
    "        \n",
    "        elements = row.find_elements(By.TAG_NAME, 'td')\n",
    "        \n",
    "        song_data = {\n",
    "            'date' : date,\n",
    "            'position' : int(elements[1].text.split('\\n')[0]),\n",
    "            'id' : link_href.replace('https://open.spotify.com/track/',''),\n",
    "            'track' : elements[2].text.split('\\n')[0],\n",
    "            'artist' : elements[2].text.split('\\n')[1],\n",
    "            'peak' : int(elements[3].text),\n",
    "            'prev' : int(elements[4].text) if elements[4].text != '—' else -1,\n",
    "            'streak' : int(elements[5].text),\n",
    "            'streams': int(elements[6].text.replace(',', ''))\n",
    "        }\n",
    "        \n",
    "        song_data_list.append(song_data)\n",
    "\n",
    "\n",
    "global_chart = pd.DataFrame(song_data_list)"
   ]
  },
  {
   "cell_type": "code",
   "execution_count": null,
   "id": "067dabeb",
   "metadata": {},
   "outputs": [],
   "source": [
    "display(global_chart)"
   ]
  },
  {
   "cell_type": "code",
   "execution_count": null,
   "id": "b1659c3e",
   "metadata": {},
   "outputs": [],
   "source": [
    "import os"
   ]
  },
  {
   "cell_type": "code",
   "execution_count": null,
   "id": "ae3c2aba",
   "metadata": {},
   "outputs": [],
   "source": [
    "header = not os.path.exists('global_chart.csv') or os.stat('global_chart.csv').st_size == 0\n",
    "global_chart.to_csv('global_chart.csv', mode='a', header=header, index=False)"
   ]
  },
  {
   "cell_type": "code",
   "execution_count": null,
   "id": "490de485",
   "metadata": {},
   "outputs": [],
   "source": [
    "driver.get(\"https://charts.spotify.com/charts/view/regional-vn-daily/latest\")"
   ]
  },
  {
   "cell_type": "code",
   "execution_count": null,
   "id": "13aa05e4",
   "metadata": {},
   "outputs": [],
   "source": [
    "date_picker_element = driver.find_element(By.XPATH, '//*[@id=\"date_picker\"]')\n",
    "date = convert_to_desired_format(date_picker_element.get_attribute('value'))\n",
    "\n",
    "table = driver.find_element(By.CSS_SELECTOR, 'table').find_elements(By.TAG_NAME, 'tbody')[0]\n",
    "\n",
    "rows = table.find_elements(By.TAG_NAME, 'tr')\n",
    "        \n",
    "song_data_list = []            \n",
    "\n",
    "for row in rows:\n",
    "\n",
    "        link_element = row.find_element(By.XPATH, './td[3]/div/div[2]/a')\n",
    "        link_href = link_element.get_attribute('href')\n",
    "        \n",
    "        elements = row.find_elements(By.TAG_NAME, 'td')\n",
    "        \n",
    "        song_data = {\n",
    "            'date' : date,\n",
    "            'position' : int(elements[1].text.split('\\n')[0]),\n",
    "            'id' : link_href.replace('https://open.spotify.com/track/',''),\n",
    "            'track' : elements[2].text.split('\\n')[0],\n",
    "            'artist' : elements[2].text.split('\\n')[1],\n",
    "            'peak' : int(elements[3].text),\n",
    "            'prev' : int(elements[4].text) if elements[4].text != '—' else -1,\n",
    "            'streak' : int(elements[5].text),\n",
    "            'streams': int(elements[6].text.replace(',', ''))\n",
    "        }\n",
    "        \n",
    "        song_data_list.append(song_data)\n",
    "\n",
    "\n",
    "vn_chart = pd.DataFrame(song_data_list)"
   ]
  },
  {
   "cell_type": "code",
   "execution_count": null,
   "id": "1a03b5a1",
   "metadata": {},
   "outputs": [],
   "source": [
    "display(vn_chart)"
   ]
  },
  {
   "cell_type": "code",
   "execution_count": null,
   "id": "e1b6ce98",
   "metadata": {},
   "outputs": [],
   "source": [
    "driver.quit()"
   ]
  },
  {
   "cell_type": "code",
   "execution_count": null,
   "id": "7aef1d48",
   "metadata": {},
   "outputs": [],
   "source": [
    "header = not os.path.exists('vn_chart.csv') or os.stat('vn_chart.csv').st_size == 0\n",
    "vn_chart.to_csv('vn_chart.csv', mode='a', header=header, index=False)"
   ]
  },
  {
   "cell_type": "code",
   "execution_count": null,
   "id": "b05307f5",
   "metadata": {},
   "outputs": [],
   "source": [
    "import requests\n",
    "\n",
    "CLIENT_ID = '29942d75c20b46b9b01eb4cd31edff20'\n",
    "CLIENT_SECRET = 'e8905b5241e54a6b8340e94282abb615'"
   ]
  },
  {
   "cell_type": "code",
   "execution_count": null,
   "id": "cdc4aad5",
   "metadata": {},
   "outputs": [],
   "source": [
    "AUTH_URL = 'https://accounts.spotify.com/api/token'\n",
    "\n",
    "# POST\n",
    "auth_response = requests.post(AUTH_URL, {\n",
    "    'grant_type': 'client_credentials',\n",
    "    'client_id': CLIENT_ID,\n",
    "    'client_secret': CLIENT_SECRET,\n",
    "})\n",
    "\n",
    "# convert the response to JSON\n",
    "auth_response_data = auth_response.json()\n",
    "\n",
    "# save the access token\n",
    "access_token = auth_response_data['access_token']"
   ]
  },
  {
   "cell_type": "code",
   "execution_count": null,
   "id": "2287c041",
   "metadata": {},
   "outputs": [],
   "source": [
    "headers = {\n",
    "    'Authorization': 'Bearer {token}'.format(token=access_token)\n",
    "}\n",
    "\n",
    "BASE_URL = 'https://api.spotify.com/v1/'"
   ]
  },
  {
   "cell_type": "code",
   "execution_count": null,
   "id": "17ab4f31",
   "metadata": {},
   "outputs": [],
   "source": [
    "check = not os.path.exists('audio_features.csv') or os.stat('audio_features.csv').st_size == 0\n",
    "\n",
    "if check:\n",
    "    exist_tracks = set()\n",
    "else:\n",
    "    exist_tracks = set(pd.read_csv('audio_features.csv')['id'])"
   ]
  },
  {
   "cell_type": "code",
   "execution_count": null,
   "id": "8bf4de3b",
   "metadata": {},
   "outputs": [],
   "source": [
    "vn_chart_ids = set(vn_chart['id'])\n",
    "global_chart_ids = set(global_chart['id'])\n",
    "\n",
    "not_exist_tracks = vn_chart_ids.union(global_chart_ids).difference(exist_tracks)"
   ]
  },
  {
   "cell_type": "code",
   "execution_count": null,
   "id": "577ac7b0",
   "metadata": {},
   "outputs": [],
   "source": [
    "audio_features_data = []\n",
    "\n",
    "for track_id in not_exist_tracks:\n",
    "    r = requests.get(BASE_URL + 'audio-features/' + track_id, headers=headers).json()\n",
    "    in4 = requests.get(BASE_URL + 'tracks/' + track_id, headers=headers).json()\n",
    "    \n",
    "    r['explicit'] = in4['explicit']\n",
    "    r['popularity'] = in4['popularity']\n",
    "    r['release_date'] = in4['album']['release_date']\n",
    "    r['album_id'] = in4['album']['id']\n",
    "    r['album_name'] = in4['album']['name']\n",
    "    r['track_number'] = in4['track_number']\n",
    "    r['preview_url'] = in4['preview_url']\n",
    "    \n",
    "    audio_features_data.append(r)\n",
    "    \n",
    "audio_features = pd.DataFrame(audio_features_data)"
   ]
  },
  {
   "cell_type": "code",
   "execution_count": null,
   "id": "cd31da39",
   "metadata": {},
   "outputs": [],
   "source": [
    "if len(audio_features) != 0:\n",
    "    audio_features = audio_features.set_index('id').reset_index().drop(columns=['type','uri','track_href','analysis_url'])\n",
    "    audio_features.to_csv('audio_features.csv', mode='a', header=check, index=False)"
   ]
  },
  {
   "cell_type": "code",
   "execution_count": null,
   "id": "e8339e74",
   "metadata": {},
   "outputs": [
    {
     "name": "stderr",
     "output_type": "stream",
     "text": [
      "[WDM] - Downloading:  12%|█▏        | 984k/7.86M [00:20<00:06, 1.12MB/s]"
     ]
    }
   ],
   "source": [
    "audio_features"
   ]
  },
  {
   "cell_type": "markdown",
   "id": "dec1d73b-73ec-47a9-981e-c79c041d1f57",
   "metadata": {},
   "source": [
    "### **Lấy audio features từ playlist**"
   ]
  },
  {
   "cell_type": "code",
   "execution_count": 46,
   "id": "936c8daa-4eb1-43db-ad21-e5cdaaa408f6",
   "metadata": {},
   "outputs": [],
   "source": [
    "from bs4 import BeautifulSoup\n",
    "\n",
    "\n",
    "\n",
    "def extract_text_from_web(url):\n",
    "    response = requests.get(url)\n",
    "\n",
    "    if response.status_code == 200:\n",
    "        soup = BeautifulSoup(response.content, 'html.parser')\n",
    "        \n",
    "        tracks = [p.get_text() for p in soup.find_all('li')]  # Extract text from paragraphs\n",
    "        \n",
    "        return tracks\n",
    "    else:\n",
    "        print('Failed to retrieve the web page. Status code:', response.status_code)\n",
    "        return None\n",
    "\n",
    "url = 'https://en.wikipedia.org/wiki/Category:2023_songs' \n",
    "text_data_1 = extract_text_from_web(url)\n",
    "text_data_1=text_data_1[text_data_1.index('A B C D E F G H I J K L M N O P Q R S T U V W X Y Z')+1:text_data_1.index('2023 works')]\n",
    "\n",
    "url = 'https://en.wikipedia.org/w/index.php?title=Category:2023_songs&pagefrom=Don%27t+Say+Love#mw-pages' \n",
    "text_data_2 = extract_text_from_web(url)\n",
    "text_data_2=text_data_2[text_data_2.index('A B C D E F G H I J K L M N O P Q R S T U V W X Y Z')+1:text_data_2.index('2023 works')]\n",
    "\n",
    "url = 'https://en.wikipedia.org/w/index.php?title=Category:2023_songs&pagefrom=Landmines+%28song%29#mw-pages' \n",
    "text_data_3 = extract_text_from_web(url)\n",
    "text_data_3=text_data_3[text_data_3.index('A B C D E F G H I J K L M N O P Q R S T U V W X Y Z')+1:text_data_3.index('2023 works')]\n",
    "\n",
    "url = 'https://en.wikipedia.org/w/index.php?title=Category:2023_songs&pagefrom=Princess+Diana+%28song%29#mw-pages' \n",
    "text_data_4 = extract_text_from_web(url)\n",
    "text_data_4=text_data_4[text_data_4.index('A B C D E F G H I J K L M N O P Q R S T U V W X Y Z')+1:text_data_4.index('2023 works')]\n",
    "\n",
    "url = 'https://en.wikipedia.org/w/index.php?title=Category:2023_songs&pagefrom=Void+%28song%29#mw-pages' \n",
    "text_data_5 = extract_text_from_web(url)\n",
    "text_data_5=text_data_5[text_data_5.index('A B C D E F G H I J K L M N O P Q R S T U V W X Y Z')+1:text_data_5.index('2023 works')]"
   ]
  },
  {
   "cell_type": "code",
   "execution_count": 47,
   "id": "d2629167-d371-4c35-8a1b-41da27cdea6a",
   "metadata": {},
   "outputs": [
    {
     "data": {
      "text/plain": [
       "858"
      ]
     },
     "execution_count": 47,
     "metadata": {},
     "output_type": "execute_result"
    }
   ],
   "source": [
    "len(text_data_1) + len(text_data_2) + len(text_data_3) + len(text_data_4) + len(text_data_5)"
   ]
  },
  {
   "cell_type": "code",
   "execution_count": 48,
   "id": "1037c77b-7809-4e74-863e-ba7dee0fdb56",
   "metadata": {},
   "outputs": [],
   "source": [
    "list_tracks_2023 = text_data_1 + text_data_2 + text_data_3 + text_data_4 + text_data_5"
   ]
  },
  {
   "cell_type": "code",
   "execution_count": 49,
   "id": "6c02b924-4286-4d8f-a001-e26ef3e90e79",
   "metadata": {},
   "outputs": [],
   "source": [
    "AUTH_URL = 'https://accounts.spotify.com/api/token'\n",
    "\n",
    "# POST\n",
    "auth_response = requests.post(AUTH_URL, {\n",
    "    'grant_type': 'client_credentials',\n",
    "    'client_id': CLIENT_ID,\n",
    "    'client_secret': CLIENT_SECRET,\n",
    "})\n",
    "\n",
    "# convert the response to JSON\n",
    "auth_response_data = auth_response.json()\n",
    "\n",
    "# save the access token\n",
    "access_token = auth_response_data['access_token']"
   ]
  },
  {
   "cell_type": "code",
   "execution_count": 50,
   "id": "4ec3ad1d-6b44-4f40-b3ed-59424425dd87",
   "metadata": {},
   "outputs": [
    {
     "ename": "NameError",
     "evalue": "name 'track_name' is not defined",
     "output_type": "error",
     "traceback": [
      "\u001b[1;31m---------------------------------------------------------------------------\u001b[0m",
      "\u001b[1;31mNameError\u001b[0m                                 Traceback (most recent call last)",
      "\u001b[1;32m~\\AppData\\Local\\Temp\\ipykernel_20212\\1014415419.py\u001b[0m in \u001b[0;36m<module>\u001b[1;34m\u001b[0m\n\u001b[0;32m      3\u001b[0m }\n\u001b[0;32m      4\u001b[0m \u001b[1;33m\u001b[0m\u001b[0m\n\u001b[1;32m----> 5\u001b[1;33m \u001b[0mBASE_URL\u001b[0m \u001b[1;33m=\u001b[0m \u001b[1;34mf'https://api.spotify.com/v1/search?q={track_name}&type=track&market=ES&limit=1&include_external=audio'\u001b[0m\u001b[1;33m\u001b[0m\u001b[1;33m\u001b[0m\u001b[0m\n\u001b[0m",
      "\u001b[1;31mNameError\u001b[0m: name 'track_name' is not defined"
     ]
    }
   ],
   "source": [
    "headers = {\n",
    "    'Authorization': 'Bearer {token}'.format(token=access_token)\n",
    "}\n",
    "\n",
    "BASE_URL = f'https://api.spotify.com/v1/'"
   ]
  },
  {
   "cell_type": "code",
   "execution_count": 53,
   "id": "d64dc785-4f63-49d3-b1df-da4a80034956",
   "metadata": {},
   "outputs": [
    {
     "name": "stdout",
     "output_type": "stream",
     "text": [
      "{'tracks': {'href': 'https://api.spotify.com/v1/search?query=3+Boys&type=track&include_external=audio&market=ES&offset=0&limit=1', 'items': [{'album': {'album_type': 'compilation', 'artists': [{'external_urls': {'spotify': 'https://open.spotify.com/artist/0LyfQWJT6nXafLPZqxe9Of'}, 'href': 'https://api.spotify.com/v1/artists/0LyfQWJT6nXafLPZqxe9Of', 'id': '0LyfQWJT6nXafLPZqxe9Of', 'name': 'Various Artists', 'type': 'artist', 'uri': 'spotify:artist:0LyfQWJT6nXafLPZqxe9Of'}], 'external_urls': {'spotify': 'https://open.spotify.com/album/0yoBrjlLdta0lLcP5VT8SF'}, 'href': 'https://api.spotify.com/v1/albums/0yoBrjlLdta0lLcP5VT8SF', 'id': '0yoBrjlLdta0lLcP5VT8SF', 'images': [{'height': 640, 'url': 'https://i.scdn.co/image/ab67616d0000b273efbce4f396f10f3e5b6bfba5', 'width': 640}, {'height': 300, 'url': 'https://i.scdn.co/image/ab67616d00001e02efbce4f396f10f3e5b6bfba5', 'width': 300}, {'height': 64, 'url': 'https://i.scdn.co/image/ab67616d00004851efbce4f396f10f3e5b6bfba5', 'width': 64}], 'is_playable': True, 'name': 'R&B Jams 2023', 'release_date': '2023-10-02', 'release_date_precision': 'day', 'total_tracks': 25, 'type': 'album', 'uri': 'spotify:album:0yoBrjlLdta0lLcP5VT8SF'}, 'artists': [{'external_urls': {'spotify': 'https://open.spotify.com/artist/5FxD8fkQZ6KcsSYupDVoSO'}, 'href': 'https://api.spotify.com/v1/artists/5FxD8fkQZ6KcsSYupDVoSO', 'id': '5FxD8fkQZ6KcsSYupDVoSO', 'name': 'Omar Apollo', 'type': 'artist', 'uri': 'spotify:artist:5FxD8fkQZ6KcsSYupDVoSO'}], 'disc_number': 1, 'duration_ms': 209188, 'explicit': False, 'external_ids': {'isrc': 'USWB12300325'}, 'external_urls': {'spotify': 'https://open.spotify.com/track/24sqRDTAR2qBjCnOzRw7yr'}, 'href': 'https://api.spotify.com/v1/tracks/24sqRDTAR2qBjCnOzRw7yr', 'id': '24sqRDTAR2qBjCnOzRw7yr', 'is_local': False, 'is_playable': True, 'name': '3 Boys', 'popularity': 0, 'preview_url': 'https://p.scdn.co/mp3-preview/6d3a318d717962569f5d9e6c70b6f98c0909a71a?cid=29942d75c20b46b9b01eb4cd31edff20', 'track_number': 15, 'type': 'track', 'uri': 'spotify:track:24sqRDTAR2qBjCnOzRw7yr'}], 'limit': 1, 'next': 'https://api.spotify.com/v1/search?query=3+Boys&type=track&include_external=audio&market=ES&offset=1&limit=1', 'offset': 0, 'previous': None, 'total': 606}}\n",
      "{'tracks': {'href': 'https://api.spotify.com/v1/search?query=3D+%28song%29&type=track&include_external=audio&market=ES&offset=0&limit=1', 'items': [{'album': {'album_type': 'album', 'artists': [{'external_urls': {'spotify': 'https://open.spotify.com/artist/2urF8dgLVfDjunO0pcHUEe'}, 'href': 'https://api.spotify.com/v1/artists/2urF8dgLVfDjunO0pcHUEe', 'id': '2urF8dgLVfDjunO0pcHUEe', 'name': 'Alvaro Soler', 'type': 'artist', 'uri': 'spotify:artist:2urF8dgLVfDjunO0pcHUEe'}], 'external_urls': {'spotify': 'https://open.spotify.com/album/66IXFg1AukADK41CP0xANr'}, 'href': 'https://api.spotify.com/v1/albums/66IXFg1AukADK41CP0xANr', 'id': '66IXFg1AukADK41CP0xANr', 'images': [{'height': 640, 'url': 'https://i.scdn.co/image/ab67616d0000b2735767e044062c6d03256397e5', 'width': 640}, {'height': 300, 'url': 'https://i.scdn.co/image/ab67616d00001e025767e044062c6d03256397e5', 'width': 300}, {'height': 64, 'url': 'https://i.scdn.co/image/ab67616d000048515767e044062c6d03256397e5', 'width': 64}], 'is_playable': True, 'name': 'Mar De Colores (Versión Extendida)', 'release_date': '2019-05-10', 'release_date_precision': 'day', 'total_tracks': 18, 'type': 'album', 'uri': 'spotify:album:66IXFg1AukADK41CP0xANr'}, 'artists': [{'external_urls': {'spotify': 'https://open.spotify.com/artist/5C4PDR4LnhZTbVnKWXuDKD'}, 'href': 'https://api.spotify.com/v1/artists/5C4PDR4LnhZTbVnKWXuDKD', 'id': '5C4PDR4LnhZTbVnKWXuDKD', 'name': 'Morat', 'type': 'artist', 'uri': 'spotify:artist:5C4PDR4LnhZTbVnKWXuDKD'}, {'external_urls': {'spotify': 'https://open.spotify.com/artist/2urF8dgLVfDjunO0pcHUEe'}, 'href': 'https://api.spotify.com/v1/artists/2urF8dgLVfDjunO0pcHUEe', 'id': '2urF8dgLVfDjunO0pcHUEe', 'name': 'Alvaro Soler', 'type': 'artist', 'uri': 'spotify:artist:2urF8dgLVfDjunO0pcHUEe'}], 'disc_number': 1, 'duration_ms': 179280, 'explicit': False, 'external_ids': {'isrc': 'ES5701700318'}, 'external_urls': {'spotify': 'https://open.spotify.com/track/12HWO1YYMV9HEqQpava5zm'}, 'href': 'https://api.spotify.com/v1/tracks/12HWO1YYMV9HEqQpava5zm', 'id': '12HWO1YYMV9HEqQpava5zm', 'is_local': False, 'is_playable': True, 'name': 'Yo Contigo, Tú Conmigo - The Gong Gong Song / El Tema De La Película \"Gru 3 Mi Villano Favorito\"', 'popularity': 58, 'preview_url': None, 'track_number': 15, 'type': 'track', 'uri': 'spotify:track:12HWO1YYMV9HEqQpava5zm'}], 'limit': 1, 'next': 'https://api.spotify.com/v1/search?query=3D+%28song%29&type=track&include_external=audio&market=ES&offset=1&limit=1', 'offset': 0, 'previous': None, 'total': 1000}}\n"
     ]
    }
   ],
   "source": [
    "tracks_id = []\n",
    "\n",
    "\n",
    "for name in text_data_1[:2]:\n",
    "    id = requests.get(BASE_URL + 'search?q=' + name + '&type=track&market=ES&limit=1&include_external=audio', headers=headers).json()\n",
    "    print(id)"
   ]
  },
  {
   "cell_type": "code",
   "execution_count": 54,
   "id": "65bce801-7278-4482-86c0-ba21dfc969f6",
   "metadata": {},
   "outputs": [
    {
     "data": {
      "text/plain": [
       "{'tracks': {'href': 'https://api.spotify.com/v1/search?query=3D+%28song%29&type=track&include_external=audio&market=ES&offset=0&limit=1',\n",
       "  'items': [{'album': {'album_type': 'album',\n",
       "     'artists': [{'external_urls': {'spotify': 'https://open.spotify.com/artist/2urF8dgLVfDjunO0pcHUEe'},\n",
       "       'href': 'https://api.spotify.com/v1/artists/2urF8dgLVfDjunO0pcHUEe',\n",
       "       'id': '2urF8dgLVfDjunO0pcHUEe',\n",
       "       'name': 'Alvaro Soler',\n",
       "       'type': 'artist',\n",
       "       'uri': 'spotify:artist:2urF8dgLVfDjunO0pcHUEe'}],\n",
       "     'external_urls': {'spotify': 'https://open.spotify.com/album/66IXFg1AukADK41CP0xANr'},\n",
       "     'href': 'https://api.spotify.com/v1/albums/66IXFg1AukADK41CP0xANr',\n",
       "     'id': '66IXFg1AukADK41CP0xANr',\n",
       "     'images': [{'height': 640,\n",
       "       'url': 'https://i.scdn.co/image/ab67616d0000b2735767e044062c6d03256397e5',\n",
       "       'width': 640},\n",
       "      {'height': 300,\n",
       "       'url': 'https://i.scdn.co/image/ab67616d00001e025767e044062c6d03256397e5',\n",
       "       'width': 300},\n",
       "      {'height': 64,\n",
       "       'url': 'https://i.scdn.co/image/ab67616d000048515767e044062c6d03256397e5',\n",
       "       'width': 64}],\n",
       "     'is_playable': True,\n",
       "     'name': 'Mar De Colores (Versión Extendida)',\n",
       "     'release_date': '2019-05-10',\n",
       "     'release_date_precision': 'day',\n",
       "     'total_tracks': 18,\n",
       "     'type': 'album',\n",
       "     'uri': 'spotify:album:66IXFg1AukADK41CP0xANr'},\n",
       "    'artists': [{'external_urls': {'spotify': 'https://open.spotify.com/artist/5C4PDR4LnhZTbVnKWXuDKD'},\n",
       "      'href': 'https://api.spotify.com/v1/artists/5C4PDR4LnhZTbVnKWXuDKD',\n",
       "      'id': '5C4PDR4LnhZTbVnKWXuDKD',\n",
       "      'name': 'Morat',\n",
       "      'type': 'artist',\n",
       "      'uri': 'spotify:artist:5C4PDR4LnhZTbVnKWXuDKD'},\n",
       "     {'external_urls': {'spotify': 'https://open.spotify.com/artist/2urF8dgLVfDjunO0pcHUEe'},\n",
       "      'href': 'https://api.spotify.com/v1/artists/2urF8dgLVfDjunO0pcHUEe',\n",
       "      'id': '2urF8dgLVfDjunO0pcHUEe',\n",
       "      'name': 'Alvaro Soler',\n",
       "      'type': 'artist',\n",
       "      'uri': 'spotify:artist:2urF8dgLVfDjunO0pcHUEe'}],\n",
       "    'disc_number': 1,\n",
       "    'duration_ms': 179280,\n",
       "    'explicit': False,\n",
       "    'external_ids': {'isrc': 'ES5701700318'},\n",
       "    'external_urls': {'spotify': 'https://open.spotify.com/track/12HWO1YYMV9HEqQpava5zm'},\n",
       "    'href': 'https://api.spotify.com/v1/tracks/12HWO1YYMV9HEqQpava5zm',\n",
       "    'id': '12HWO1YYMV9HEqQpava5zm',\n",
       "    'is_local': False,\n",
       "    'is_playable': True,\n",
       "    'name': 'Yo Contigo, Tú Conmigo - The Gong Gong Song / El Tema De La Película \"Gru 3 Mi Villano Favorito\"',\n",
       "    'popularity': 58,\n",
       "    'preview_url': None,\n",
       "    'track_number': 15,\n",
       "    'type': 'track',\n",
       "    'uri': 'spotify:track:12HWO1YYMV9HEqQpava5zm'}],\n",
       "  'limit': 1,\n",
       "  'next': 'https://api.spotify.com/v1/search?query=3D+%28song%29&type=track&include_external=audio&market=ES&offset=1&limit=1',\n",
       "  'offset': 0,\n",
       "  'previous': None,\n",
       "  'total': 1000}}"
      ]
     },
     "execution_count": 54,
     "metadata": {},
     "output_type": "execute_result"
    }
   ],
   "source": [
    "id"
   ]
  },
  {
   "cell_type": "code",
   "execution_count": 51,
   "id": "64888c93-5d2b-44d5-b0a3-184bc3c44a26",
   "metadata": {},
   "outputs": [],
   "source": [
    "import os\n",
    "\n",
    "check = not os.path.exists('audio_features_2.csv') or os.stat('audio_features_2.csv').st_size == 0\n",
    "\n",
    "if check:\n",
    "    exist_tracks = set()\n",
    "else:\n",
    "    exist_tracks = set(pd.read_csv('audio_features_2.csv')['id'])"
   ]
  },
  {
   "cell_type": "code",
   "execution_count": null,
   "id": "2420f8b5-7af8-4170-9701-a585a5399c2b",
   "metadata": {},
   "outputs": [],
   "source": [
    "audio_features_data = []\n",
    "\n",
    "for track_id in not_exist_tracks:\n",
    "    r = requests.get(BASE_URL + 'audio-features/' + track_id, headers=headers).json()\n",
    "    in4 = requests.get(BASE_URL + 'tracks/' + track_id, headers=headers).json()\n",
    "    \n",
    "    r['explicit'] = in4['explicit']\n",
    "    r['popularity'] = in4['popularity']\n",
    "    r['release_date'] = in4['album']['release_date']\n",
    "    r['album_id'] = in4['album']['id']\n",
    "    r['album_name'] = in4['album']['name']\n",
    "    r['track_number'] = in4['track_number']\n",
    "    r['preview_url'] = in4['preview_url']\n",
    "    \n",
    "    audio_features_data.append(r)\n",
    "    \n",
    "audio_features = pd.DataFrame(audio_features_data)"
   ]
  },
  {
   "cell_type": "markdown",
   "id": "7e028ea3-656a-44da-9cc1-acd4b7ae5834",
   "metadata": {},
   "source": [
    "## **Thu thập Audio Feature từ playlists**"
   ]
  },
  {
   "cell_type": "code",
   "execution_count": null,
   "id": "cbeb529d-94b0-4e2e-bb4f-0cea6595f496",
   "metadata": {},
   "outputs": [],
   "source": []
  }
 ],
 "metadata": {
  "kernelspec": {
   "display_name": "Python 3 (ipykernel)",
   "language": "python",
   "name": "python3"
  },
  "language_info": {
   "codemirror_mode": {
    "name": "ipython",
    "version": 3
   },
   "file_extension": ".py",
   "mimetype": "text/x-python",
   "name": "python",
   "nbconvert_exporter": "python",
   "pygments_lexer": "ipython3",
   "version": "3.9.13"
  }
 },
 "nbformat": 4,
 "nbformat_minor": 5
}
